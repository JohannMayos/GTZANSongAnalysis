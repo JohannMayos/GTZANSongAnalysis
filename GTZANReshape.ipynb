{
 "cells": [
  {
   "cell_type": "code",
   "execution_count": 14,
   "metadata": {},
   "outputs": [],
   "source": [
    "import numpy as np\n",
    "import pandas as pd\n",
    "import matplotlib.pyplot as plt\n",
    "import seaborn as sn\n",
    "import tensorflow as tf\n",
    "import os\n",
    "import cv2\n",
    "from tensorflow.keras.models import Sequential, load_model\n",
    "from tensorflow.keras.layers import Input, Dense, Dropout, Flatten, LSTM, Conv2D, MaxPooling2D, Conv1D, MaxPooling1D, GlobalMaxPooling1D, BatchNormalization\n",
    "from tensorflow.keras.callbacks import ModelCheckpoint\n",
    "from tensorflow.keras.layers import LeakyReLU\n",
    "from sklearn.model_selection import train_test_split, KFold\n",
    "from sklearn.metrics import confusion_matrix\n"
   ]
  },
  {
   "cell_type": "code",
   "execution_count": 7,
   "metadata": {},
   "outputs": [
    {
     "name": "stdout",
     "output_type": "stream",
     "text": [
      "(944, 1025, 1293)\n",
      "(944, 10, 1293)\n",
      "(944, 10)\n"
     ]
    }
   ],
   "source": [
    "f = np.load(os.getcwd()+\"/MusicFeatures.npz\")#, spec= AllSpec, mel= AllMel, mfcc= AllMfcc, zcr= AllZcr, cen= AllCen, chroma= AllChroma, target=y)\n",
    "S = f['spec']\n",
    "mfcc = f['mfcc']\n",
    "mel = f['mel']\n",
    "chroma = f['chroma']\n",
    "y = f['target']\n",
    "print(S.shape)\n",
    "print(mfcc.shape)\n",
    "print(y.shape)\n",
    "\n",
    "S_train, S_test, mfcc_train, mfcc_test, mel_train, mel_test, chroma_train, chroma_test, y_train, y_test = train_test_split(S, mfcc, mel, chroma, y, test_size= 0.2)"
   ]
  },
  {
   "cell_type": "code",
   "execution_count": 8,
   "metadata": {},
   "outputs": [],
   "source": [
    "# Spectrogram\n",
    "maximum1 = np.amax(S_train)\n",
    "S_train = S_train/np.amax(maximum1)\n",
    "S_test = S_test/np.amax(maximum1)\n",
    "\n",
    "S_train = S_train.astype(np.float32)\n",
    "S_test = S_test.astype(np.float32)\n",
    "\n",
    "N, row, col = S_train.shape\n",
    "S_train = S_train.reshape((N, row, col, 1))\n",
    "\n",
    "N, row, col = S_test.shape\n",
    "S_test = S_test.reshape((N, row, col, 1))"
   ]
  },
  {
   "cell_type": "code",
   "execution_count": 15,
   "metadata": {},
   "outputs": [],
   "source": [
    "# MFCC\n",
    "newtrain_mfcc = np.empty((mfcc_train.shape[0], 120, 600))\n",
    "newtest_mfcc = np.empty((mfcc_test.shape[0], 120, 600))\n",
    "\n",
    "for i in range(mfcc_train.shape[0]) :\n",
    "    curr = mfcc_train[i]\n",
    "    curr = cv2.resize(curr, (600, 120))\n",
    "    newtrain_mfcc[i] = curr\n",
    "\n",
    "mfcc_train = newtrain_mfcc\n",
    "\n",
    "for i in range(mfcc_test.shape[0]) :\n",
    "\n",
    "  curr = mfcc_test[i]\n",
    "  curr = cv2.resize(curr, (600, 120))\n",
    "  newtest_mfcc[i] = curr\n",
    "\n",
    "mfcc_test = newtest_mfcc\n",
    "\n",
    "mfcc_train = mfcc_train.astype(np.float32)\n",
    "mfcc_test = mfcc_test.astype(np.float32)\n",
    "\n",
    "N, row, col = mfcc_train.shape\n",
    "mfcc_train = mfcc_train.reshape((N, row, col, 1))\n",
    "\n",
    "N, row, col = mfcc_test.shape\n",
    "mfcc_test = mfcc_test.reshape((N, row, col, 1))\n",
    "\n",
    "mean_data = np.mean(mfcc_train)\n",
    "std_data = np.std(mfcc_train)\n",
    "\n",
    "mfcc_train = (mfcc_train - mean_data)/ std_data\n",
    "mfcc_test = (mfcc_test - mean_data)/ std_data"
   ]
  },
  {
   "cell_type": "code",
   "execution_count": 16,
   "metadata": {},
   "outputs": [],
   "source": [
    "# Mel-Spectrogram\n",
    "\n",
    "maximum = np.amax(mel_train)\n",
    "mel_train = mel_train/np.amax(maximum)\n",
    "mel_test = mel_test/np.amax(maximum)\n",
    "\n",
    "mel_train = mel_train.astype(np.float32)\n",
    "mel_test = mel_test.astype(np.float32)\n",
    "\n",
    "N, row, col = mel_train.shape\n",
    "mel_train = mel_train.reshape((N, row, col, 1))\n",
    "\n",
    "N, row, col = mel_test.shape\n",
    "mel_test = mel_test.reshape((N, row, col, 1))"
   ]
  },
  {
   "cell_type": "code",
   "execution_count": 17,
   "metadata": {},
   "outputs": [],
   "source": [
    "# Save Spectrogram train-test\n",
    "np.savez_compressed(os.getcwd()+\"/new_spectrogram_train_test.npz\", S_train= S_train, S_test= S_test, y_train = y_train, y_test= y_test)\n",
    "\n",
    "# Save MFCC train-test\n",
    "np.savez_compressed(os.getcwd()+\"/new_mfcc_train_test.npz\", mfcc_train= mfcc_train, mfcc_test= mfcc_test, y_train = y_train, y_test= y_test)\n",
    "\n",
    "# Save Mel-Spectrogram train-test\n",
    "np.savez_compressed(os.getcwd()+\"/new_mel_train_test.npz\", mel_train= mel_train, mel_test= mel_test, y_train = y_train, y_test= y_test)\n"
   ]
  }
 ],
 "metadata": {
  "kernelspec": {
   "display_name": "Python 3",
   "language": "python",
   "name": "python3"
  },
  "language_info": {
   "codemirror_mode": {
    "name": "ipython",
    "version": 3
   },
   "file_extension": ".py",
   "mimetype": "text/x-python",
   "name": "python",
   "nbconvert_exporter": "python",
   "pygments_lexer": "ipython3",
   "version": "3.12.0"
  }
 },
 "nbformat": 4,
 "nbformat_minor": 2
}
